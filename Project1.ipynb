{
  "nbformat": 4,
  "nbformat_minor": 0,
  "metadata": {
    "colab": {
      "name": "Project1.ipynb",
      "provenance": [],
      "collapsed_sections": [],
      "toc_visible": true,
      "include_colab_link": true
    },
    "kernelspec": {
      "name": "python3",
      "display_name": "Python 3"
    }
  },
  "cells": [
    {
      "cell_type": "markdown",
      "metadata": {
        "id": "view-in-github",
        "colab_type": "text"
      },
      "source": [
        "<a href=\"https://colab.research.google.com/github/babu4055/Project/blob/master/Project1.ipynb\" target=\"_parent\"><img src=\"https://colab.research.google.com/assets/colab-badge.svg\" alt=\"Open In Colab\"/></a>"
      ]
    },
    {
      "cell_type": "markdown",
      "metadata": {
        "id": "NKZu8BgkfAk0",
        "colab_type": "text"
      },
      "source": [
        "# **CONTRIBUTORS:**\n",
        "\n",
        "\n",
        "*   G.Pardhu           - 19PA1A04C7\n",
        "*   P.Niranjan Sai     - 19PA1A04D2\n",
        "*   P.Vardhan          - 19PA1A04D6\n",
        "*   T.Prakash Babu     - 19PA1A04D7\n"
      ]
    },
    {
      "cell_type": "markdown",
      "metadata": {
        "id": "12dHDSL_gUx5",
        "colab_type": "text"
      },
      "source": [
        "# **Description**\n",
        "\n",
        "*   The Data Frame is Read from the Kaggle Website and importing all the python libraries\n",
        "\n",
        "\n"
      ]
    },
    {
      "cell_type": "markdown",
      "metadata": {
        "id": "fmwVP0X3lAK6",
        "colab_type": "text"
      },
      "source": [
        "# **Reading Data**"
      ]
    },
    {
      "cell_type": "code",
      "metadata": {
        "id": "6rdRxXcOC6w7",
        "colab_type": "code",
        "outputId": "2960442e-883f-4ee6-f93a-97e858ecd5b8",
        "colab": {
          "base_uri": "https://localhost:8080/",
          "height": 255
        }
      },
      "source": [
        "#Reading data\n",
        "import pandas as pd\n",
        "import numpy as np\n",
        "import matplotlib.pyplot as plt\n",
        "import seaborn as sns\n",
        "a=pd.read_csv(\"/content/amazon_co-ecommerce_sample.csv\")\n",
        "print(a)"
      ],
      "execution_count": 0,
      "outputs": [
        {
          "output_type": "stream",
          "text": [
            "                               uniq_id  ...                                            sellers\n",
            "0     eac7efa5dbd3d667f26eb3d3ab504464  ...  {\"seller\"=>[{\"Seller_name_1\"=>\"Amazon.co.uk\", ...\n",
            "1     b17540ef7e86e461d37f3ae58b7b72ac  ...  {\"seller\"=>{\"Seller_name_1\"=>\"UHD WHOLESALE\", ...\n",
            "2     348f344247b0c1a935b1223072ef9d8a  ...  {\"seller\"=>[{\"Seller_name_1\"=>\"DEAL-BOX\", \"Sel...\n",
            "3     e12b92dbb8eaee78b22965d2a9bbbd9f  ...                                                NaN\n",
            "4     e33a9adeed5f36840ccc227db4682a36  ...                                                NaN\n",
            "...                                ...  ...                                                ...\n",
            "9995  44d6967f083825a5de36ad4865a65bcd  ...  {\"seller\"=>[{\"Seller_name_1\"=>\"Star Action Fig...\n",
            "9996  08f0747b6fc6687215ffb994c3a6fb32  ...                                                NaN\n",
            "9997  bf6cc073f8f24e6e338190fa16f6ee9d  ...  {\"seller\"=>[{\"Seller_name_1\"=>\"YUK\", \"Seller_p...\n",
            "9998  cd783d0b8b44e631b9788b203eaaefae  ...  {\"seller\"=>[{\"Seller_name_1\"=>\"Smaller World F...\n",
            "9999  94d18e86e504bee1e392df7e5738b18a  ...                                                NaN\n",
            "\n",
            "[10000 rows x 17 columns]\n"
          ],
          "name": "stdout"
        }
      ]
    },
    {
      "cell_type": "markdown",
      "metadata": {
        "id": "vO_Oz9MQiuSA",
        "colab_type": "text"
      },
      "source": [
        "**Reading the Info of the Data_set**"
      ]
    },
    {
      "cell_type": "code",
      "metadata": {
        "id": "bTqQfH9bXCKB",
        "colab_type": "code",
        "outputId": "5533540f-846e-483a-c23d-e367de226d66",
        "colab": {
          "base_uri": "https://localhost:8080/",
          "height": 275
        }
      },
      "source": [
        "a.info"
      ],
      "execution_count": 0,
      "outputs": [
        {
          "output_type": "execute_result",
          "data": {
            "text/plain": [
              "<bound method DataFrame.info of                                uniq_id  ...                                            sellers\n",
              "0     eac7efa5dbd3d667f26eb3d3ab504464  ...  {\"seller\"=>[{\"Seller_name_1\"=>\"Amazon.co.uk\", ...\n",
              "1     b17540ef7e86e461d37f3ae58b7b72ac  ...  {\"seller\"=>{\"Seller_name_1\"=>\"UHD WHOLESALE\", ...\n",
              "2     348f344247b0c1a935b1223072ef9d8a  ...  {\"seller\"=>[{\"Seller_name_1\"=>\"DEAL-BOX\", \"Sel...\n",
              "3     e12b92dbb8eaee78b22965d2a9bbbd9f  ...                                                NaN\n",
              "4     e33a9adeed5f36840ccc227db4682a36  ...                                                NaN\n",
              "...                                ...  ...                                                ...\n",
              "9995  44d6967f083825a5de36ad4865a65bcd  ...  {\"seller\"=>[{\"Seller_name_1\"=>\"Star Action Fig...\n",
              "9996  08f0747b6fc6687215ffb994c3a6fb32  ...                                                NaN\n",
              "9997  bf6cc073f8f24e6e338190fa16f6ee9d  ...  {\"seller\"=>[{\"Seller_name_1\"=>\"YUK\", \"Seller_p...\n",
              "9998  cd783d0b8b44e631b9788b203eaaefae  ...  {\"seller\"=>[{\"Seller_name_1\"=>\"Smaller World F...\n",
              "9999  94d18e86e504bee1e392df7e5738b18a  ...                                                NaN\n",
              "\n",
              "[10000 rows x 17 columns]>"
            ]
          },
          "metadata": {
            "tags": []
          },
          "execution_count": 46
        }
      ]
    },
    {
      "cell_type": "markdown",
      "metadata": {
        "id": "9HcFLr4ci-C2",
        "colab_type": "text"
      },
      "source": [
        "**The Statistical Data of the Dataset**"
      ]
    },
    {
      "cell_type": "code",
      "metadata": {
        "id": "99arjUKld7N8",
        "colab_type": "code",
        "outputId": "664d4b7d-e96c-44ef-eb63-082ff46cf312",
        "colab": {
          "base_uri": "https://localhost:8080/",
          "height": 297
        }
      },
      "source": [
        "a.describe()"
      ],
      "execution_count": 0,
      "outputs": [
        {
          "output_type": "execute_result",
          "data": {
            "text/html": [
              "<div>\n",
              "<style scoped>\n",
              "    .dataframe tbody tr th:only-of-type {\n",
              "        vertical-align: middle;\n",
              "    }\n",
              "\n",
              "    .dataframe tbody tr th {\n",
              "        vertical-align: top;\n",
              "    }\n",
              "\n",
              "    .dataframe thead th {\n",
              "        text-align: right;\n",
              "    }\n",
              "</style>\n",
              "<table border=\"1\" class=\"dataframe\">\n",
              "  <thead>\n",
              "    <tr style=\"text-align: right;\">\n",
              "      <th></th>\n",
              "      <th>number_of_answered_questions</th>\n",
              "    </tr>\n",
              "  </thead>\n",
              "  <tbody>\n",
              "    <tr>\n",
              "      <th>count</th>\n",
              "      <td>9235.000000</td>\n",
              "    </tr>\n",
              "    <tr>\n",
              "      <th>mean</th>\n",
              "      <td>1.834976</td>\n",
              "    </tr>\n",
              "    <tr>\n",
              "      <th>std</th>\n",
              "      <td>2.517268</td>\n",
              "    </tr>\n",
              "    <tr>\n",
              "      <th>min</th>\n",
              "      <td>1.000000</td>\n",
              "    </tr>\n",
              "    <tr>\n",
              "      <th>25%</th>\n",
              "      <td>1.000000</td>\n",
              "    </tr>\n",
              "    <tr>\n",
              "      <th>50%</th>\n",
              "      <td>1.000000</td>\n",
              "    </tr>\n",
              "    <tr>\n",
              "      <th>75%</th>\n",
              "      <td>2.000000</td>\n",
              "    </tr>\n",
              "    <tr>\n",
              "      <th>max</th>\n",
              "      <td>39.000000</td>\n",
              "    </tr>\n",
              "  </tbody>\n",
              "</table>\n",
              "</div>"
            ],
            "text/plain": [
              "       number_of_answered_questions\n",
              "count                   9235.000000\n",
              "mean                       1.834976\n",
              "std                        2.517268\n",
              "min                        1.000000\n",
              "25%                        1.000000\n",
              "50%                        1.000000\n",
              "75%                        2.000000\n",
              "max                       39.000000"
            ]
          },
          "metadata": {
            "tags": []
          },
          "execution_count": 73
        }
      ]
    },
    {
      "cell_type": "markdown",
      "metadata": {
        "id": "c41dWoV2jIXE",
        "colab_type": "text"
      },
      "source": [
        "**Dimension of the Dataset**"
      ]
    },
    {
      "cell_type": "code",
      "metadata": {
        "id": "b8bVop52FoMv",
        "colab_type": "code",
        "outputId": "f7a51a78-3b13-4588-a398-fc005b7d42be",
        "colab": {
          "base_uri": "https://localhost:8080/",
          "height": 34
        }
      },
      "source": [
        "print(a.ndim)"
      ],
      "execution_count": 0,
      "outputs": [
        {
          "output_type": "stream",
          "text": [
            "2\n"
          ],
          "name": "stdout"
        }
      ]
    },
    {
      "cell_type": "markdown",
      "metadata": {
        "id": "-kbjb1zOjOYH",
        "colab_type": "text"
      },
      "source": [
        "**Shape of the Dataset**"
      ]
    },
    {
      "cell_type": "code",
      "metadata": {
        "id": "F70grOFcFzBk",
        "colab_type": "code",
        "outputId": "5d3aed6f-fec6-4f0f-ea2c-e7074e869448",
        "colab": {
          "base_uri": "https://localhost:8080/",
          "height": 34
        }
      },
      "source": [
        "print(a.shape)"
      ],
      "execution_count": 0,
      "outputs": [
        {
          "output_type": "stream",
          "text": [
            "(10000, 17)\n"
          ],
          "name": "stdout"
        }
      ]
    },
    {
      "cell_type": "markdown",
      "metadata": {
        "id": "QWbhHlY-jRw7",
        "colab_type": "text"
      },
      "source": [
        "**Size of the Dataset**"
      ]
    },
    {
      "cell_type": "code",
      "metadata": {
        "id": "AgGMngimF_f4",
        "colab_type": "code",
        "outputId": "596f54d6-0757-4fc6-dfa4-8b010db9e96b",
        "colab": {
          "base_uri": "https://localhost:8080/",
          "height": 34
        }
      },
      "source": [
        "print(a.size)"
      ],
      "execution_count": 0,
      "outputs": [
        {
          "output_type": "stream",
          "text": [
            "170000\n"
          ],
          "name": "stdout"
        }
      ]
    },
    {
      "cell_type": "markdown",
      "metadata": {
        "id": "H0rI7MRzjYGA",
        "colab_type": "text"
      },
      "source": [
        "**Columns of the Dataset**"
      ]
    },
    {
      "cell_type": "code",
      "metadata": {
        "id": "_g6e6M-8GQYJ",
        "colab_type": "code",
        "outputId": "bc46cdde-8c84-4199-f6ac-cbdfabff2ca6",
        "colab": {
          "base_uri": "https://localhost:8080/",
          "height": 170
        }
      },
      "source": [
        "a.columns"
      ],
      "execution_count": 0,
      "outputs": [
        {
          "output_type": "execute_result",
          "data": {
            "text/plain": [
              "Index(['uniq_id', 'product_name', 'manufacturer', 'price',\n",
              "       'number_available_in_stock', 'number_of_reviews',\n",
              "       'number_of_answered_questions', 'average_review_rating',\n",
              "       'amazon_category_and_sub_category',\n",
              "       'customers_who_bought_this_item_also_bought', 'description',\n",
              "       'product_information', 'product_description',\n",
              "       'items_customers_buy_after_viewing_this_item',\n",
              "       'customer_questions_and_answers', 'customer_reviews', 'sellers'],\n",
              "      dtype='object')"
            ]
          },
          "metadata": {
            "tags": []
          },
          "execution_count": 51
        }
      ]
    },
    {
      "cell_type": "markdown",
      "metadata": {
        "id": "hcz7tDlujejh",
        "colab_type": "text"
      },
      "source": [
        "**Accessing the subset from the Dataset**"
      ]
    },
    {
      "cell_type": "code",
      "metadata": {
        "id": "iULek_KRNV8Q",
        "colab_type": "code",
        "outputId": "f2321eb9-380a-419d-c5a6-acf135426fa8",
        "colab": {
          "base_uri": "https://localhost:8080/",
          "height": 538
        }
      },
      "source": [
        "a.loc[:,[\"number_available_in_stock\",\"number_of_reviews\",\"number_of_answer_question\"]]"
      ],
      "execution_count": 0,
      "outputs": [
        {
          "output_type": "stream",
          "text": [
            "/usr/local/lib/python3.6/dist-packages/pandas/core/indexing.py:1418: FutureWarning: \n",
            "Passing list-likes to .loc or [] with any missing label will raise\n",
            "KeyError in the future, you can use .reindex() as an alternative.\n",
            "\n",
            "See the documentation here:\n",
            "https://pandas.pydata.org/pandas-docs/stable/user_guide/indexing.html#deprecate-loc-reindex-listlike\n",
            "  return self._getitem_tuple(key)\n"
          ],
          "name": "stderr"
        },
        {
          "output_type": "execute_result",
          "data": {
            "text/html": [
              "<div>\n",
              "<style scoped>\n",
              "    .dataframe tbody tr th:only-of-type {\n",
              "        vertical-align: middle;\n",
              "    }\n",
              "\n",
              "    .dataframe tbody tr th {\n",
              "        vertical-align: top;\n",
              "    }\n",
              "\n",
              "    .dataframe thead th {\n",
              "        text-align: right;\n",
              "    }\n",
              "</style>\n",
              "<table border=\"1\" class=\"dataframe\">\n",
              "  <thead>\n",
              "    <tr style=\"text-align: right;\">\n",
              "      <th></th>\n",
              "      <th>number_available_in_stock</th>\n",
              "      <th>number_of_reviews</th>\n",
              "      <th>number_of_answer_question</th>\n",
              "    </tr>\n",
              "  </thead>\n",
              "  <tbody>\n",
              "    <tr>\n",
              "      <th>0</th>\n",
              "      <td>5 new</td>\n",
              "      <td>15</td>\n",
              "      <td>NaN</td>\n",
              "    </tr>\n",
              "    <tr>\n",
              "      <th>1</th>\n",
              "      <td>NaN</td>\n",
              "      <td>2</td>\n",
              "      <td>NaN</td>\n",
              "    </tr>\n",
              "    <tr>\n",
              "      <th>2</th>\n",
              "      <td>2 new</td>\n",
              "      <td>17</td>\n",
              "      <td>NaN</td>\n",
              "    </tr>\n",
              "    <tr>\n",
              "      <th>3</th>\n",
              "      <td>NaN</td>\n",
              "      <td>1</td>\n",
              "      <td>NaN</td>\n",
              "    </tr>\n",
              "    <tr>\n",
              "      <th>4</th>\n",
              "      <td>NaN</td>\n",
              "      <td>3</td>\n",
              "      <td>NaN</td>\n",
              "    </tr>\n",
              "    <tr>\n",
              "      <th>...</th>\n",
              "      <td>...</td>\n",
              "      <td>...</td>\n",
              "      <td>...</td>\n",
              "    </tr>\n",
              "    <tr>\n",
              "      <th>9995</th>\n",
              "      <td>5 new</td>\n",
              "      <td>3</td>\n",
              "      <td>NaN</td>\n",
              "    </tr>\n",
              "    <tr>\n",
              "      <th>9996</th>\n",
              "      <td>NaN</td>\n",
              "      <td>1</td>\n",
              "      <td>NaN</td>\n",
              "    </tr>\n",
              "    <tr>\n",
              "      <th>9997</th>\n",
              "      <td>3 new</td>\n",
              "      <td>1</td>\n",
              "      <td>NaN</td>\n",
              "    </tr>\n",
              "    <tr>\n",
              "      <th>9998</th>\n",
              "      <td>3 new</td>\n",
              "      <td>1</td>\n",
              "      <td>NaN</td>\n",
              "    </tr>\n",
              "    <tr>\n",
              "      <th>9999</th>\n",
              "      <td>31 new</td>\n",
              "      <td>11</td>\n",
              "      <td>NaN</td>\n",
              "    </tr>\n",
              "  </tbody>\n",
              "</table>\n",
              "<p>10000 rows × 3 columns</p>\n",
              "</div>"
            ],
            "text/plain": [
              "     number_available_in_stock number_of_reviews  number_of_answer_question\n",
              "0                        5 new                15                        NaN\n",
              "1                          NaN                 2                        NaN\n",
              "2                        2 new                17                        NaN\n",
              "3                          NaN                 1                        NaN\n",
              "4                          NaN                 3                        NaN\n",
              "...                        ...               ...                        ...\n",
              "9995                     5 new                 3                        NaN\n",
              "9996                       NaN                 1                        NaN\n",
              "9997                     3 new                 1                        NaN\n",
              "9998                     3 new                 1                        NaN\n",
              "9999                    31 new                11                        NaN\n",
              "\n",
              "[10000 rows x 3 columns]"
            ]
          },
          "metadata": {
            "tags": []
          },
          "execution_count": 89
        }
      ]
    },
    {
      "cell_type": "markdown",
      "metadata": {
        "id": "dg75KFWJj3c3",
        "colab_type": "text"
      },
      "source": [
        "**Accessing the Subset from Categorical Data**"
      ]
    },
    {
      "cell_type": "code",
      "metadata": {
        "id": "bYvvyO4JGatc",
        "colab_type": "code",
        "outputId": "29bfe739-aa91-4e21-be80-9d3dd1427fdf",
        "colab": {
          "base_uri": "https://localhost:8080/",
          "height": 136
        }
      },
      "source": [
        "b=a.loc[0:5,['number_of_reviews','manufacturer']]\n",
        "print(b)"
      ],
      "execution_count": 0,
      "outputs": [
        {
          "output_type": "stream",
          "text": [
            "  number_of_reviews manufacturer\n",
            "0                15       Hornby\n",
            "1                 2    FunkyBuys\n",
            "2                17          ccf\n",
            "3                 1       Hornby\n",
            "4                 3       Hornby\n",
            "5                 2      Generic\n"
          ],
          "name": "stdout"
        }
      ]
    },
    {
      "cell_type": "markdown",
      "metadata": {
        "id": "DOwNxpjnj9vn",
        "colab_type": "text"
      },
      "source": [
        "# **Data Visualization**"
      ]
    },
    {
      "cell_type": "markdown",
      "metadata": {
        "id": "BDZaOaXckDQY",
        "colab_type": "text"
      },
      "source": [
        "**Pair Plot**"
      ]
    },
    {
      "cell_type": "code",
      "metadata": {
        "id": "yzzOXhDSZj5a",
        "colab_type": "code",
        "outputId": "85450234-c334-4ac6-b5b5-aea44ab332fa",
        "colab": {
          "base_uri": "https://localhost:8080/",
          "height": 228
        }
      },
      "source": [
        "sns.pairplot(data=a)"
      ],
      "execution_count": 0,
      "outputs": [
        {
          "output_type": "execute_result",
          "data": {
            "text/plain": [
              "<seaborn.axisgrid.PairGrid at 0x7f7ddc5f6e48>"
            ]
          },
          "metadata": {
            "tags": []
          },
          "execution_count": 58
        },
        {
          "output_type": "display_data",
          "data": {
            "image/png": "[encoded data removed]",
            "text/plain": [
              "<Figure size 180x180 with 2 Axes>"
            ]
          },
          "metadata": {
            "tags": []
          }
        }
      ]
    },
    {
      "cell_type": "markdown",
      "metadata": {
        "id": "x3CPs8ZAkPWg",
        "colab_type": "text"
      },
      "source": [
        "**Bar Graph**"
      ]
    },
    {
      "cell_type": "code",
      "metadata": {
        "id": "0Enl3apwY3uL",
        "colab_type": "code",
        "outputId": "cd784ff6-36ce-46be-91f2-23a9694557c6",
        "colab": {
          "base_uri": "https://localhost:8080/",
          "height": 281
        }
      },
      "source": [
        "a.plot(kind='bar')\n",
        "plt.show()"
      ],
      "execution_count": 0,
      "outputs": [
        {
          "output_type": "display_data",
          "data": {
            "image/png": "[encoded data removed]",
            "text/plain": [
              "<Figure size 432x288 with 1 Axes>"
            ]
          },
          "metadata": {
            "tags": []
          }
        }
      ]
    },
    {
      "cell_type": "markdown",
      "metadata": {
        "id": "KFp5yEnckXQJ",
        "colab_type": "text"
      },
      "source": [
        "**Scatter Plot**"
      ]
    },
    {
      "cell_type": "code",
      "metadata": {
        "id": "1Xh1Wgi5aSYX",
        "colab_type": "code",
        "outputId": "e7af889f-2765-4906-b31f-aacd709f0be5",
        "colab": {
          "base_uri": "https://localhost:8080/",
          "height": 265
        }
      },
      "source": [
        "plt.scatter(b['manufacturer'],b['number_of_reviews'])\n",
        "plt.show()"
      ],
      "execution_count": 0,
      "outputs": [
        {
          "output_type": "display_data",
          "data": {
            "image/png": "[encoded data removed]",
            "text/plain": [
              "<Figure size 432x288 with 1 Axes>"
            ]
          },
          "metadata": {
            "tags": []
          }
        }
      ]
    },
    {
      "cell_type": "markdown",
      "metadata": {
        "id": "J6sdkIZfkaR-",
        "colab_type": "text"
      },
      "source": [
        "**Line Plot**"
      ]
    },
    {
      "cell_type": "code",
      "metadata": {
        "id": "0Cm14YIVbupK",
        "colab_type": "code",
        "outputId": "3acce478-58bb-41fa-ff65-57e011f3201c",
        "colab": {
          "base_uri": "https://localhost:8080/",
          "height": 265
        }
      },
      "source": [
        "z=a.loc[0:5,['number_of_answered_questions']]\n",
        "z.plot()\n",
        "plt.show()"
      ],
      "execution_count": 0,
      "outputs": [
        {
          "output_type": "display_data",
          "data": {
            "image/png": "[encoded data removed]",
            "text/plain": [
              "<Figure size 432x288 with 1 Axes>"
            ]
          },
          "metadata": {
            "tags": []
          }
        }
      ]
    },
    {
      "cell_type": "markdown",
      "metadata": {
        "id": "PUgN6CgrkfkZ",
        "colab_type": "text"
      },
      "source": [
        "**Pie Chart**"
      ]
    },
    {
      "cell_type": "code",
      "metadata": {
        "id": "GCD7LcZSdJ4a",
        "colab_type": "code",
        "outputId": "c65f3c1a-f1de-4158-e2b5-e96a9997db9f",
        "colab": {
          "base_uri": "https://localhost:8080/",
          "height": 248
        }
      },
      "source": [
        "plt.pie(b['number_of_reviews'],labels=b['manufacturer'],shadow=True,autopct='%1.1f%%',explode=(0,0,0,0,0.2,0))\n",
        "plt.show()"
      ],
      "execution_count": 0,
      "outputs": [
        {
          "output_type": "display_data",
          "data": {
            "image/png": "[encoded data removed]",
            "text/plain": [
              "<Figure size 432x288 with 1 Axes>"
            ]
          },
          "metadata": {
            "tags": []
          }
        }
      ]
    }
  ]
}